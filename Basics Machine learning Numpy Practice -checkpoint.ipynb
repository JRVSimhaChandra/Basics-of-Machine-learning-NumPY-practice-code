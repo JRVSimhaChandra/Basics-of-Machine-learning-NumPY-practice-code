{
 "cells": [
  {
   "cell_type": "markdown",
   "id": "6bb0578f-2565-44d8-8bbe-bdef9cd67ee3",
   "metadata": {},
   "source": [
    "                                                  Numpy:\n",
    ". Numpy is a linear algebra library in python and it is the grail and main building block of data science.\n",
    ". Numpy stands for numerical python which is used perform numerical calculations.\n",
    ". Numpy is used to handle Array's and Matrics."
   ]
  },
  {
   "cell_type": "markdown",
   "id": "86043ab0-7045-4912-a955-6283b3f37375",
   "metadata": {},
   "source": [
    "What is Numpy?\n",
    ". Numpy in python is a library/package that used to work with arrays.\n",
    ". It is also a data structure used to store multiple values.\n",
    ". Numpy is provides efficient way of storing and manipulating data.\n",
    ". If offers wide variety of mathematical function, which helps in solving complex math problems of linear algebra, fourier transform and vctors."
   ]
  },
  {
   "cell_type": "markdown",
   "id": "8d3df851-dd06-4a97-8b36-c2d1f58c72a9",
   "metadata": {},
   "source": [
    "why Numpy?\n",
    ". Faster and more compact than lists.\n",
    ". Consumes less memory.\n",
    ". Data type can be specified.\n",
    ". High level mathematical functions can be used.\n",
    ". Used to solve problems related to linear algebra, fourier transform vectors etc.."
   ]
  },
  {
   "cell_type": "markdown",
   "id": "4dc70134-635f-4b26-a8d2-49114e8741d7",
   "metadata": {},
   "source": [
    "What is an Array?\n",
    " \n",
    " Numpy array commonly used data structures in python that store data as a grid , or a matrix and easy to access.\n"
   ]
  },
  {
   "cell_type": "code",
   "execution_count": 7,
   "id": "ccc39804-9909-4488-8332-9ca61da9d91e",
   "metadata": {},
   "outputs": [],
   "source": [
    "# import numpy package\n",
    "import numpy as np"
   ]
  },
  {
   "cell_type": "code",
   "execution_count": 9,
   "id": "186fab45-a6ed-4656-b97c-2330fa602841",
   "metadata": {},
   "outputs": [
    {
     "name": "stdout",
     "output_type": "stream",
     "text": [
      "[]\n",
      "<class 'numpy.ndarray'>\n"
     ]
    }
   ],
   "source": [
    "# create empty array\n",
    "arr=np.array([])\n",
    "print(arr)\n",
    "print(type(arr))"
   ]
  },
  {
   "cell_type": "code",
   "execution_count": 11,
   "id": "2c07c11e-f99d-4f9a-8830-e3fa436b3af5",
   "metadata": {},
   "outputs": [
    {
     "name": "stdout",
     "output_type": "stream",
     "text": [
      "[6 7 8 9 4 5 6]\n",
      "<class 'numpy.ndarray'>\n"
     ]
    }
   ],
   "source": [
    "# create numpy array to store values such as 6,7,8,9,4,5,6\n",
    "arr1=np.array([6,7,8,9,4,5,6])\n",
    "print(arr1)\n",
    "print(type(arr1))"
   ]
  },
  {
   "cell_type": "code",
   "execution_count": 12,
   "id": "003d5619-899e-4e2d-a6fe-2b0f1499492a",
   "metadata": {},
   "outputs": [
    {
     "name": "stdout",
     "output_type": "stream",
     "text": [
      "['blue' 'green' 'yellow' 'orange']\n",
      "<class 'numpy.ndarray'>\n"
     ]
    }
   ],
   "source": [
    "# create numpy array to store values such as blue, green, yellow, orange.\n",
    "colors=np.array((\"blue\", \"green\", \"yellow\", \"orange\"))\n",
    "print(colors)\n",
    "print(type(colors))"
   ]
  },
  {
   "cell_type": "code",
   "execution_count": 13,
   "id": "98e7639d-4321-4607-9134-f81da6251e4e",
   "metadata": {},
   "outputs": [
    {
     "name": "stdout",
     "output_type": "stream",
     "text": [
      "[34 56 78 98 56 45 34 25]\n",
      "<class 'numpy.ndarray'>\n"
     ]
    }
   ],
   "source": [
    "# how to create an array using list\n",
    "list=[34, 56, 78, 98, 56, 45, 34, 25]\n",
    "arr=np.array(list)\n",
    "print(arr)\n",
    "print(type(arr))"
   ]
  },
  {
   "cell_type": "code",
   "execution_count": 14,
   "id": "a80eba39-60a1-49c7-a98c-c08f0362b14f",
   "metadata": {},
   "outputs": [
    {
     "name": "stdout",
     "output_type": "stream",
     "text": [
      "[101 102 103 104 105 106 107 108]\n",
      "<class 'numpy.ndarray'>\n"
     ]
    }
   ],
   "source": [
    "# how to create array using tuple\n",
    "tuple=(101, 102, 103, 104, 105, 106, 107, 108)\n",
    "arr=np.array(tuple)\n",
    "print(arr)\n",
    "print(type(arr))"
   ]
  },
  {
   "cell_type": "markdown",
   "id": "3ec0894e-d462-4ffd-96dd-7c9071e05cd6",
   "metadata": {},
   "source": [
    "# 1-D array"
   ]
  },
  {
   "cell_type": "markdown",
   "id": "ee7b45f2-07e4-4865-b8d0-c257d4db00d5",
   "metadata": {},
   "source": [
    "# Ndim- It is used to find dimension of an array."
   ]
  },
  {
   "cell_type": "code",
   "execution_count": 23,
   "id": "8eee730c-1d86-4d29-bc16-3d97b05192a9",
   "metadata": {},
   "outputs": [
    {
     "name": "stdout",
     "output_type": "stream",
     "text": [
      "[1 2 3 4 5 6]\n",
      "dimension of array is 1\n"
     ]
    }
   ],
   "source": [
    "arr=np.array([1,2,3,4,5,6])\n",
    "print(arr)\n",
    "print(\"dimension of array is\",arr.ndim)"
   ]
  },
  {
   "cell_type": "code",
   "execution_count": 20,
   "id": "35d0c1c4-3b1e-466b-90e6-76663321ff77",
   "metadata": {},
   "outputs": [
    {
     "name": "stdout",
     "output_type": "stream",
     "text": [
      "[1 2 3 4 5 6]\n",
      "number of elements is 6\n"
     ]
    }
   ],
   "source": [
    "arr=np.array([1,2,3,4,5,6])\n",
    "print(arr)\n",
    "print(\"number of elements is\",arr.size)\n"
   ]
  },
  {
   "cell_type": "code",
   "execution_count": 22,
   "id": "c3063484-7f0a-44cd-bef0-e3cc7ae6a7e6",
   "metadata": {},
   "outputs": [
    {
     "name": "stdout",
     "output_type": "stream",
     "text": [
      "[1 2 3 4 5 6]\n",
      "dimension of array is 1\n",
      "number of elements is 6\n"
     ]
    }
   ],
   "source": [
    "arr=np.array([1,2,3,4,5,6])\n",
    "print(arr)\n",
    "print(\"dimension of array is\",arr.ndim)\n",
    "print(\"number of elements is\",arr.size)"
   ]
  },
  {
   "cell_type": "code",
   "execution_count": 24,
   "id": "d3c20c5c-e7d5-4a8d-bd45-150534881a0d",
   "metadata": {},
   "outputs": [
    {
     "name": "stdout",
     "output_type": "stream",
     "text": [
      "[1 2 3 4 5 6]\n",
      "data type of an array elements int32\n"
     ]
    }
   ],
   "source": [
    "arr=np.array([1,2,3,4,5,6])\n",
    "print(arr)\n",
    "print(\"data type of an array elements\",arr.dtype)"
   ]
  },
  {
   "cell_type": "code",
   "execution_count": 25,
   "id": "03b7bfc2-a732-43fa-ab24-4790f700fbaa",
   "metadata": {},
   "outputs": [
    {
     "name": "stdout",
     "output_type": "stream",
     "text": [
      "[1 2 3 4 5 6]\n",
      "dimension of array is 1\n",
      "number of elements is 6\n",
      "data type of an array elements int32\n"
     ]
    }
   ],
   "source": [
    "arr=np.array([1,2,3,4,5,6])\n",
    "print(arr)\n",
    "print(\"dimension of array is\",arr.ndim)\n",
    "print(\"number of elements is\",arr.size)\n",
    "print(\"data type of an array elements\",arr.dtype)"
   ]
  },
  {
   "cell_type": "markdown",
   "id": "564be0ca-50a1-441b-b56d-3332fa29eb27",
   "metadata": {},
   "source": [
    "# 2-D array...matrices"
   ]
  },
  {
   "cell_type": "code",
   "execution_count": 26,
   "id": "859a6fae-9c64-4d6c-9191-bcdb86ac551f",
   "metadata": {},
   "outputs": [],
   "source": [
    "# 2-D array..matrices\n",
    "arr_2d=np.array([])"
   ]
  },
  {
   "cell_type": "code",
   "execution_count": 27,
   "id": "ab58c2fa-cf16-4142-95eb-42fa57aee966",
   "metadata": {},
   "outputs": [
    {
     "name": "stdout",
     "output_type": "stream",
     "text": [
      "[[1 2 3]\n",
      " [4 5 6]\n",
      " [7 8 9]]\n"
     ]
    }
   ],
   "source": [
    "arr_2d=np.array([[1,2,3],[4,5,6],[7,8,9]])\n",
    "print(arr_2d)"
   ]
  },
  {
   "cell_type": "code",
   "execution_count": 28,
   "id": "69d989d2-fafc-440d-a3e2-f9ccf64fda2e",
   "metadata": {},
   "outputs": [
    {
     "name": "stdout",
     "output_type": "stream",
     "text": [
      "[[4 5 6 7]\n",
      " [8 9 1 2]\n",
      " [3 2 4 3]\n",
      " [9 2 1 4]]\n",
      "dimension 2\n",
      "no.of elements 16\n",
      "order of matrix (4, 4)\n"
     ]
    }
   ],
   "source": [
    "arr=np.array([[4,5,6,7],[8,9,1,2],[3,2,4,3],[9,2,1,4]])\n",
    "print(arr)\n",
    "print(\"dimension\",arr.ndim)\n",
    "print(\"no.of elements\",arr.size)\n",
    "print(\"order of matrix\",arr.shape)"
   ]
  },
  {
   "cell_type": "markdown",
   "id": "2edb5130-8565-4cff-b0cc-2b512d579ec6",
   "metadata": {},
   "source": [
    "# 3-D array"
   ]
  },
  {
   "cell_type": "code",
   "execution_count": 35,
   "id": "7c5eab75-eeb9-4ffb-8374-d005aae534a0",
   "metadata": {},
   "outputs": [
    {
     "name": "stdout",
     "output_type": "stream",
     "text": [
      "[[[1 2 3]\n",
      "  [3 4 5]\n",
      "  [7 8 9]]]\n",
      "3\n",
      "shape (1, 3, 3)\n",
      "dimension 3\n",
      "no.of elements 9\n"
     ]
    }
   ],
   "source": [
    "arr=np.array([[[1,2,3],[3,4,5],[7,8,9]]])\n",
    "print(arr)\n",
    "print(arr.ndim)\n",
    "print(\"shape\",arr.shape)\n",
    "print(\"dimension\",arr.ndim)\n",
    "print(\"no.of elements\",arr.size)"
   ]
  },
  {
   "cell_type": "markdown",
   "id": "0d4a332e-cb0c-42a0-83d5-d09a01482c0b",
   "metadata": {},
   "source": [
    "# 4-D array"
   ]
  },
  {
   "cell_type": "code",
   "execution_count": 39,
   "id": "de6a29fa-cc9c-4538-b492-44a66f4e7044",
   "metadata": {},
   "outputs": [
    {
     "name": "stdout",
     "output_type": "stream",
     "text": [
      "[[[[1 2 3]\n",
      "   [4 5 6]\n",
      "   [7 8 9]]]]\n",
      "4\n",
      "shape (1, 1, 3, 3)\n",
      "dimension 4\n",
      "no.of elements 9\n"
     ]
    }
   ],
   "source": [
    "arr=np.array([[[[1,2,3],[4,5,6],[7,8,9]]]])\n",
    "print(arr)\n",
    "print(arr.ndim)\n",
    "print(\"shape\",arr.shape)\n",
    "print(\"dimension\",arr.ndim)\n",
    "print(\"no.of elements\",arr.size)"
   ]
  },
  {
   "cell_type": "markdown",
   "id": "21e5c0f0-17cf-475d-9865-dbdada811d13",
   "metadata": {},
   "source": [
    "# 5-D array "
   ]
  },
  {
   "cell_type": "code",
   "execution_count": 40,
   "id": "700f883b-c8c2-4930-bc8a-f2b3e57eed2e",
   "metadata": {},
   "outputs": [
    {
     "name": "stdout",
     "output_type": "stream",
     "text": [
      "[[[[[1 2 3]\n",
      "    [4 5 6]\n",
      "    [7 8 9]]]]]\n",
      "5\n",
      "shape (1, 1, 1, 3, 3)\n",
      "dimension 5\n",
      "no.of elements 9\n"
     ]
    }
   ],
   "source": [
    "arr=np.array([[[[[1,2,3],[4,5,6],[7,8,9]]]]])\n",
    "print(arr)\n",
    "print(arr.ndim)\n",
    "print(\"shape\",arr.shape)\n",
    "print(\"dimension\",arr.ndim)\n",
    "print(\"no.of elements\",arr.size)"
   ]
  },
  {
   "cell_type": "markdown",
   "id": "c36e3951-8fd8-41db-b16b-0f6baebecb7a",
   "metadata": {},
   "source": [
    "# Built in function to generate numpy array."
   ]
  },
  {
   "cell_type": "markdown",
   "id": "5baf8682-6b1f-4ce4-b260-0f0986addb31",
   "metadata": {},
   "source": [
    "arange : it is used to generate evenly spaced values with in a given interval.\n",
    "Note: End value is not included.\n"
   ]
  },
  {
   "cell_type": "code",
   "execution_count": 44,
   "id": "525dee96-5d48-450e-9497-d834667abb71",
   "metadata": {},
   "outputs": [
    {
     "data": {
      "text/plain": [
       "array([ 0,  1,  2,  3,  4,  5,  6,  7,  8,  9, 10, 11, 12, 13, 14])"
      ]
     },
     "execution_count": 44,
     "metadata": {},
     "output_type": "execute_result"
    }
   ],
   "source": [
    "# generate values from 0 to 14\n",
    "np.arange(15)"
   ]
  },
  {
   "cell_type": "code",
   "execution_count": 46,
   "id": "18507e6e-6876-4ef0-b0b6-15328afcf6e7",
   "metadata": {},
   "outputs": [
    {
     "data": {
      "text/plain": [
       "array([ 0,  1,  2,  3,  4,  5,  6,  7,  8,  9, 10, 11, 12, 13, 14, 15, 16,\n",
       "       17, 18, 19, 20, 21, 22, 23, 24, 25, 26, 27, 28, 29, 30])"
      ]
     },
     "execution_count": 46,
     "metadata": {},
     "output_type": "execute_result"
    }
   ],
   "source": [
    "# generate value from 0 to 30\n",
    "np.arange(31)"
   ]
  },
  {
   "cell_type": "code",
   "execution_count": 47,
   "id": "094ef968-87f3-4e95-a339-6737e7165d6e",
   "metadata": {},
   "outputs": [
    {
     "data": {
      "text/plain": [
       "array([101, 102, 103, 104, 105, 106, 107, 108, 109, 110, 111, 112, 113,\n",
       "       114, 115, 116, 117, 118, 119, 120, 121, 122, 123, 124, 125, 126,\n",
       "       127, 128, 129, 130, 131, 132, 133, 134, 135, 136, 137, 138, 139,\n",
       "       140, 141, 142, 143, 144, 145, 146, 147, 148, 149, 150])"
      ]
     },
     "execution_count": 47,
     "metadata": {},
     "output_type": "execute_result"
    }
   ],
   "source": [
    "# generate values from 101 to 150\n",
    "# arange (start, end)\n",
    "np.arange(101, 151)"
   ]
  },
  {
   "cell_type": "code",
   "execution_count": 48,
   "id": "d90d72e0-cf5d-4ab4-a0b0-00607f21ac24",
   "metadata": {},
   "outputs": [
    {
     "data": {
      "text/plain": [
       "array([500, 501, 502, 503, 504, 505, 506, 507, 508, 509, 510, 511, 512,\n",
       "       513, 514, 515, 516, 517, 518, 519, 520, 521, 522, 523, 524, 525,\n",
       "       526, 527, 528, 529, 530, 531, 532, 533, 534, 535, 536, 537, 538,\n",
       "       539, 540, 541, 542, 543, 544, 545, 546, 547, 548, 549, 550, 551,\n",
       "       552, 553, 554, 555, 556, 557, 558, 559, 560, 561, 562, 563, 564,\n",
       "       565, 566, 567, 568, 569, 570, 571, 572, 573, 574, 575, 576, 577,\n",
       "       578, 579, 580, 581, 582, 583, 584, 585, 586, 587, 588, 589, 590])"
      ]
     },
     "execution_count": 48,
     "metadata": {},
     "output_type": "execute_result"
    }
   ],
   "source": [
    "# generate values from 500 to 590\n",
    "np.arange (500,591)"
   ]
  },
  {
   "cell_type": "code",
   "execution_count": 49,
   "id": "4744ec4d-7af8-4d67-aa53-75c44f5085e2",
   "metadata": {},
   "outputs": [
    {
     "data": {
      "text/plain": [
       "(array([ 0,  2,  4,  6,  8, 10, 12, 14, 16, 18, 20]), (2, 21, 2))"
      ]
     },
     "execution_count": 49,
     "metadata": {},
     "output_type": "execute_result"
    }
   ],
   "source": [
    "# generate first 10 even numbers\n",
    "# arange (start, end, step)\n",
    "np.arange(0,21,2),(2,21,2)"
   ]
  },
  {
   "cell_type": "code",
   "execution_count": 50,
   "id": "88339547-fe89-40f6-8097-c11570ce9dbe",
   "metadata": {},
   "outputs": [
    {
     "data": {
      "text/plain": [
       "array([ 5, 10, 15, 20, 25, 30, 35, 40, 45, 50])"
      ]
     },
     "execution_count": 50,
     "metadata": {},
     "output_type": "execute_result"
    }
   ],
   "source": [
    "# generate an array which includes 10 multiples of 5\n",
    "np.arange(5,51,5)"
   ]
  },
  {
   "cell_type": "code",
   "execution_count": 51,
   "id": "27084771-f3a2-4284-b6a7-9e6c2db454dc",
   "metadata": {},
   "outputs": [
    {
     "data": {
      "text/plain": [
       "array([ 8, 16, 24, 32, 40, 48, 56, 64, 72, 80])"
      ]
     },
     "execution_count": 51,
     "metadata": {},
     "output_type": "execute_result"
    }
   ],
   "source": [
    "# can u find 10 multiples of 8\n",
    "np.arange(8,81,8)"
   ]
  },
  {
   "cell_type": "markdown",
   "id": "4f697251-21b4-443a-b017-a4766ecd2954",
   "metadata": {},
   "source": [
    "# Ones\n",
    "# ones: Returns an array with all one"
   ]
  },
  {
   "cell_type": "code",
   "execution_count": 52,
   "id": "cd759eaa-7982-4968-abbc-23479ae8d7d1",
   "metadata": {},
   "outputs": [
    {
     "data": {
      "text/plain": [
       "array([1., 1., 1.])"
      ]
     },
     "execution_count": 52,
     "metadata": {},
     "output_type": "execute_result"
    }
   ],
   "source": [
    "np.ones(3) \n",
    "# Return 1-D array with 3 element as 1"
   ]
  },
  {
   "cell_type": "code",
   "execution_count": 53,
   "id": "5b1cd725-848c-4e42-85a4-60318d4de7ff",
   "metadata": {},
   "outputs": [
    {
     "data": {
      "text/plain": [
       "array([1., 1., 1., 1., 1., 1., 1., 1., 1., 1.])"
      ]
     },
     "execution_count": 53,
     "metadata": {},
     "output_type": "execute_result"
    }
   ],
   "source": [
    "# return 1-D array 10 elements as 1\n",
    "np.ones(10)"
   ]
  },
  {
   "cell_type": "code",
   "execution_count": 54,
   "id": "bc27a782-dd29-437a-8134-a710e0805e9c",
   "metadata": {},
   "outputs": [
    {
     "data": {
      "text/plain": [
       "array([[1., 1.],\n",
       "       [1., 1.]])"
      ]
     },
     "execution_count": 54,
     "metadata": {},
     "output_type": "execute_result"
    }
   ],
   "source": [
    "# 2-D create unit matrix of order (2,2)\n",
    "np.ones((2,2))"
   ]
  },
  {
   "cell_type": "code",
   "execution_count": 55,
   "id": "88e51952-cb0d-468f-b93f-e167d60a02af",
   "metadata": {},
   "outputs": [
    {
     "data": {
      "text/plain": [
       "array([[1., 1., 1.],\n",
       "       [1., 1., 1.],\n",
       "       [1., 1., 1.],\n",
       "       [1., 1., 1.],\n",
       "       [1., 1., 1.]])"
      ]
     },
     "execution_count": 55,
     "metadata": {},
     "output_type": "execute_result"
    }
   ],
   "source": [
    "# create unit matrix of order (5,3)\n",
    "np.ones((5,3))"
   ]
  },
  {
   "cell_type": "markdown",
   "id": "7974740d-3ef8-4214-bf71-dca840e20e33",
   "metadata": {},
   "source": [
    "# Zeros"
   ]
  },
  {
   "cell_type": "code",
   "execution_count": 57,
   "id": "7e51e695-9788-44d0-9597-6aabe8889b8e",
   "metadata": {},
   "outputs": [
    {
     "data": {
      "text/plain": [
       "array([0., 0., 0., 0., 0.])"
      ]
     },
     "execution_count": 57,
     "metadata": {},
     "output_type": "execute_result"
    }
   ],
   "source": [
    "# create an 1-D array with 5 elements as 0\n",
    "np.zeros(5)"
   ]
  },
  {
   "cell_type": "code",
   "execution_count": 58,
   "id": "5bb86247-7bc6-43ba-ac24-e5e57c952d93",
   "metadata": {},
   "outputs": [
    {
     "data": {
      "text/plain": [
       "array([[0., 0., 0.],\n",
       "       [0., 0., 0.],\n",
       "       [0., 0., 0.]])"
      ]
     },
     "execution_count": 58,
     "metadata": {},
     "output_type": "execute_result"
    }
   ],
   "source": [
    "# create 2-D array or order (3,3)\n",
    "np.zeros((3,3))"
   ]
  },
  {
   "cell_type": "markdown",
   "id": "cc822c41-4181-45e2-91c1-7ed092964f0b",
   "metadata": {},
   "source": [
    "# EYE-Identity "
   ]
  },
  {
   "cell_type": "code",
   "execution_count": 59,
   "id": "69705c12-a5b6-4f68-b7f6-aab0e82be639",
   "metadata": {},
   "outputs": [
    {
     "data": {
      "text/plain": [
       "array([[1., 0.],\n",
       "       [0., 1.]])"
      ]
     },
     "execution_count": 59,
     "metadata": {},
     "output_type": "execute_result"
    }
   ],
   "source": [
    "# create (2,2) identity matrix\n",
    "np.eye(2)"
   ]
  },
  {
   "cell_type": "code",
   "execution_count": 60,
   "id": "dffc6530-5525-4c81-84e5-a0ea20434f12",
   "metadata": {},
   "outputs": [
    {
     "data": {
      "text/plain": [
       "array([[1., 0., 0.],\n",
       "       [0., 1., 0.],\n",
       "       [0., 0., 1.]])"
      ]
     },
     "execution_count": 60,
     "metadata": {},
     "output_type": "execute_result"
    }
   ],
   "source": [
    "# create (3,3) identity matrix\n",
    "np.eye(3)"
   ]
  },
  {
   "cell_type": "code",
   "execution_count": 61,
   "id": "f9c62574-fa20-42c4-bdd6-72900cb4a1fb",
   "metadata": {},
   "outputs": [
    {
     "data": {
      "text/plain": [
       "array([[1., 0., 0.],\n",
       "       [0., 1., 0.],\n",
       "       [0., 0., 1.],\n",
       "       [0., 0., 0.]])"
      ]
     },
     "execution_count": 61,
     "metadata": {},
     "output_type": "execute_result"
    }
   ],
   "source": [
    "# create (4,3) identity matrix\n",
    "np.eye(4,3)"
   ]
  },
  {
   "cell_type": "markdown",
   "id": "beada7e4-8d70-4754-a2f5-04b107801685",
   "metadata": {},
   "source": [
    "# Full- It is used generate array with same element."
   ]
  },
  {
   "cell_type": "code",
   "execution_count": 62,
   "id": "b3f65f59-5c93-4872-97c5-190414b695cd",
   "metadata": {},
   "outputs": [
    {
     "data": {
      "text/plain": [
       "array([[10, 10],\n",
       "       [10, 10]])"
      ]
     },
     "execution_count": 62,
     "metadata": {},
     "output_type": "execute_result"
    }
   ],
   "source": [
    "# create (2,2) with all elements as 10\n",
    "np.full((2,2),10)"
   ]
  },
  {
   "cell_type": "code",
   "execution_count": 63,
   "id": "4fbae2b4-1782-46d8-a144-9047a021be22",
   "metadata": {},
   "outputs": [
    {
     "data": {
      "text/plain": [
       "array([[20, 20, 20],\n",
       "       [20, 20, 20],\n",
       "       [20, 20, 20],\n",
       "       [20, 20, 20]])"
      ]
     },
     "execution_count": 63,
     "metadata": {},
     "output_type": "execute_result"
    }
   ],
   "source": [
    "# create (4,3) matrix with all elements as 20\n",
    "np.full ((4,3),20)"
   ]
  },
  {
   "cell_type": "markdown",
   "id": "4bcc87a8-bbb5-4489-b89f-d4322360aa2b",
   "metadata": {},
   "source": [
    "# Linspace- It is used to generate linearly spaced values."
   ]
  },
  {
   "cell_type": "code",
   "execution_count": 64,
   "id": "9a0f6e88-f0d5-44f7-aa96-92ad2d1a05b0",
   "metadata": {},
   "outputs": [
    {
     "data": {
      "text/plain": [
       "array([1.        , 1.08163265, 1.16326531, 1.24489796, 1.32653061,\n",
       "       1.40816327, 1.48979592, 1.57142857, 1.65306122, 1.73469388,\n",
       "       1.81632653, 1.89795918, 1.97959184, 2.06122449, 2.14285714,\n",
       "       2.2244898 , 2.30612245, 2.3877551 , 2.46938776, 2.55102041,\n",
       "       2.63265306, 2.71428571, 2.79591837, 2.87755102, 2.95918367,\n",
       "       3.04081633, 3.12244898, 3.20408163, 3.28571429, 3.36734694,\n",
       "       3.44897959, 3.53061224, 3.6122449 , 3.69387755, 3.7755102 ,\n",
       "       3.85714286, 3.93877551, 4.02040816, 4.10204082, 4.18367347,\n",
       "       4.26530612, 4.34693878, 4.42857143, 4.51020408, 4.59183673,\n",
       "       4.67346939, 4.75510204, 4.83673469, 4.91836735, 5.        ])"
      ]
     },
     "execution_count": 64,
     "metadata": {},
     "output_type": "execute_result"
    }
   ],
   "source": [
    "# generate linearly spaced values between 1 to 5 \n",
    "np.linspace(1,5)"
   ]
  },
  {
   "cell_type": "code",
   "execution_count": 66,
   "id": "8098f138-9bd9-458f-a5c2-d24ef9998849",
   "metadata": {},
   "outputs": [
    {
     "data": {
      "text/plain": [
       "(array([  1.,  12.,  23.,  34.,  45.,  56.,  67.,  78.,  89., 100.]), 11.0)"
      ]
     },
     "execution_count": 66,
     "metadata": {},
     "output_type": "execute_result"
    }
   ],
   "source": [
    "# generate 10 equally spaced values between 1 to 100\n",
    "np.linspace(1,100,num=10,retstep=True)"
   ]
  },
  {
   "cell_type": "code",
   "execution_count": 67,
   "id": "6024ffde-5721-4635-9ac6-feddd8749294",
   "metadata": {},
   "outputs": [
    {
     "data": {
      "text/plain": [
       "(array([   1.,  112.,  223.,  334.,  445.,  556.,  667.,  778.,  889.,\n",
       "        1000.]),\n",
       " 111.0)"
      ]
     },
     "execution_count": 67,
     "metadata": {},
     "output_type": "execute_result"
    }
   ],
   "source": [
    "# generate 10 numbers between 1 to 1000 and find the difference\n",
    "np.linspace(1,1000,num=10, retstep=True)"
   ]
  }
 ],
 "metadata": {
  "kernelspec": {
   "display_name": "Python 3 (ipykernel)",
   "language": "python",
   "name": "python3"
  },
  "language_info": {
   "codemirror_mode": {
    "name": "ipython",
    "version": 3
   },
   "file_extension": ".py",
   "mimetype": "text/x-python",
   "name": "python",
   "nbconvert_exporter": "python",
   "pygments_lexer": "ipython3",
   "version": "3.12.4"
  }
 },
 "nbformat": 4,
 "nbformat_minor": 5
}
